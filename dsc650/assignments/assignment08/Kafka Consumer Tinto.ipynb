{
 "cells": [
  {
   "cell_type": "code",
   "execution_count": 21,
   "metadata": {},
   "outputs": [],
   "source": [
    "import json\n",
    "\n",
    "from kafka import KafkaConsumer"
   ]
  },
  {
   "cell_type": "markdown",
   "metadata": {},
   "source": [
    "### Configuration Parameters \n",
    "\n",
    "> **TODO:** Change the configuration prameters to the appropriate values for your setup."
   ]
  },
  {
   "cell_type": "code",
   "execution_count": 23,
   "metadata": {},
   "outputs": [
    {
     "data": {
      "text/plain": [
       "{'bootstrap_servers': ['kafka.kafka.svc.cluster.local:9092'],\n",
       " 'first_name': 'Tinto',\n",
       " 'last_name': 'Kurian',\n",
       " 'client_id': 'KurianTinto',\n",
       " 'topic_prefix': 'KurianTinto'}"
      ]
     },
     "execution_count": 23,
     "metadata": {},
     "output_type": "execute_result"
    }
   ],
   "source": [
    "config = dict(\n",
    "    bootstrap_servers=['kafka.kafka.svc.cluster.local:9092'],\n",
    "    first_name='Tinto',\n",
    "    last_name='Kurian'\n",
    ")\n",
    "\n",
    "config['client_id'] = '{}{}'.format(\n",
    "    config['last_name'], \n",
    "    config['first_name']\n",
    ")\n",
    "config['topic_prefix'] = '{}{}'.format(\n",
    "    config['last_name'], \n",
    "    config['first_name']\n",
    ")\n",
    "\n",
    "config"
   ]
  },
  {
   "cell_type": "markdown",
   "metadata": {},
   "source": [
    "Create a consumer without subscribing to any particular topic"
   ]
  },
  {
   "cell_type": "code",
   "execution_count": 24,
   "metadata": {},
   "outputs": [],
   "source": [
    "general_consumer = KafkaConsumer(\n",
    "    bootstrap_servers=config['bootstrap_servers']\n",
    ")"
   ]
  },
  {
   "cell_type": "markdown",
   "metadata": {},
   "source": [
    "List all topics you are currently allowed to view"
   ]
  },
  {
   "cell_type": "code",
   "execution_count": 25,
   "metadata": {},
   "outputs": [
    {
     "data": {
      "text/plain": [
       "{'AgrawalSatish-accelerations',\n",
       " 'AgrawalSatish-joined',\n",
       " 'AgrawalSatish-locations',\n",
       " 'AgrawalSatish-simple',\n",
       " 'AgrawalSatish-windowed',\n",
       " 'BankarDhiraj-accelerations',\n",
       " 'BankarDhiraj-locations',\n",
       " 'BauerMaddie-accelerations',\n",
       " 'BauerMaddie-joined',\n",
       " 'BauerMaddie-locations',\n",
       " 'BauerMaddie-simple',\n",
       " 'BauerMaddie-windowed',\n",
       " 'BeinarsGabrielle-accelerations',\n",
       " 'BeinarsGabrielle-locations',\n",
       " 'BiswasRajdeep-accelerations',\n",
       " 'BiswasRajdeep-joined',\n",
       " 'BiswasRajdeep-locations',\n",
       " 'BiswasRajdeep-simple',\n",
       " 'BiswasRajdeep-windowed',\n",
       " 'CatesEvelyn-accelerations',\n",
       " 'CatesEvelyn-aceelerations',\n",
       " 'CatesEvelyn-locations',\n",
       " 'CuellarJulia-accelerations',\n",
       " 'CuellarJulia-locations',\n",
       " 'DaveMeiners-accelerations',\n",
       " 'DaveMeiners-locations',\n",
       " 'DoeJohn-accelerations',\n",
       " 'DoeJohn-joined',\n",
       " 'DoeJohn-locations',\n",
       " 'DoeJohn-simple',\n",
       " 'DoeJohn-windowed',\n",
       " 'EliasElias-locations',\n",
       " 'FedaiElias-acceleration',\n",
       " 'FedaiElias-accelerations',\n",
       " 'FedaiElias-joined',\n",
       " 'FedaiElias-locations',\n",
       " 'FedaiElias-simple',\n",
       " 'FedaiElias-windowed',\n",
       " 'HarryTom-locations',\n",
       " 'HotalingMichael-accelerations',\n",
       " 'HotalingMichael-joined',\n",
       " 'HotalingMichael-locations',\n",
       " 'HotalingMichael-simple',\n",
       " 'HotalingMichael-windowed',\n",
       " 'HuntonDeborah-accelerations',\n",
       " 'HuntonDeborah-locations',\n",
       " 'KUppuswamiRajkumar-simple',\n",
       " 'KUppuswamiRajkumar-windowed',\n",
       " 'KalkarManish-accelerations',\n",
       " 'KalkarManish-locations',\n",
       " 'KalkarManish-simple',\n",
       " 'KlineMatthew-accelerations',\n",
       " 'KlineMatthew-locations',\n",
       " 'KummarikuntaVidyasagar-accelerations',\n",
       " 'KummarikuntaVidyasagar-locations',\n",
       " 'KuppuswamiRajkumar-accelerations',\n",
       " 'KuppuswamiRajkumar-joined',\n",
       " 'KuppuswamiRajkumar-locations',\n",
       " 'KuppuswamiRajkumar-simple',\n",
       " 'KuppuswamiRajkumar-windowed',\n",
       " 'KurianTinto-accelerations',\n",
       " 'KurianTinto-locations',\n",
       " 'MeinersDave-Acceleration',\n",
       " 'MeinersDave-accelerations',\n",
       " 'MeinersDave-joined',\n",
       " 'MeinersDave-locations',\n",
       " 'MeinersDave-simple',\n",
       " 'MeinersDave-windowed',\n",
       " 'MestonRyan-accelerations',\n",
       " 'MestonRyan-locations',\n",
       " 'MisraAbhigyan-accelerations',\n",
       " 'MisraAbhigyan-joined',\n",
       " 'MisraAbhigyan-locations',\n",
       " 'MisraAbhigyan-simple',\n",
       " 'MisraAbhigyan-windowed',\n",
       " 'MooreGloria-accelerations',\n",
       " 'MooreGloria-locations',\n",
       " 'MyersCody-accelerations',\n",
       " 'MyersCody-locations',\n",
       " 'NerallaRavindra-accelerations',\n",
       " 'NerallaRavindra-locations',\n",
       " 'OmprakashSantosh-accelerations',\n",
       " 'OmprakashSantosh-locations',\n",
       " 'SutowBrett-accelerations',\n",
       " 'SutowBrett-joined',\n",
       " 'SutowBrett-locations',\n",
       " 'SutowBrett-simple',\n",
       " 'SutowBrett-windowed',\n",
       " 'ThompsonKayla-accelerations',\n",
       " 'ThompsonKayla-locations',\n",
       " 'WiltseDan-accelerations',\n",
       " 'WiltseDan-locations',\n",
       " 'YoungRachel-accelerations',\n",
       " 'YoungRachel-locations',\n",
       " 'ZylkowskiDan-accelerations',\n",
       " 'ZylkowskiDan-locations'}"
      ]
     },
     "execution_count": 25,
     "metadata": {},
     "output_type": "execute_result"
    }
   ],
   "source": [
    "general_consumer.topics()"
   ]
  },
  {
   "cell_type": "markdown",
   "metadata": {},
   "source": [
    "Close the consumer, waiting indefinitely for any needed cleanup."
   ]
  },
  {
   "cell_type": "code",
   "execution_count": 26,
   "metadata": {},
   "outputs": [],
   "source": [
    "general_consumer.close()"
   ]
  },
  {
   "cell_type": "code",
   "execution_count": 27,
   "metadata": {},
   "outputs": [],
   "source": [
    "def create_kafka_consumer(topics, config=config):\n",
    "    bootstrap_servers = config['bootstrap_servers']\n",
    "    client_id = config['client_id']\n",
    "    topic_prefix = config['topic_prefix']    \n",
    "    topic_list = ['{}-{}'.format(topic_prefix, topic) for topic in topics]\n",
    "    \n",
    "    return KafkaConsumer(\n",
    "        *topic_list,\n",
    "        client_id=client_id,\n",
    "        bootstrap_servers=bootstrap_servers,\n",
    "        auto_offset_reset='earliest',\n",
    "        enable_auto_commit=False,\n",
    "        value_deserializer=lambda x: json.loads(x)\n",
    "    )\n",
    "\n",
    "consumer = create_kafka_consumer(['locations', 'accelerations'])"
   ]
  },
  {
   "cell_type": "markdown",
   "metadata": {},
   "source": [
    "Gets a list of this consumer's current subscriptions"
   ]
  },
  {
   "cell_type": "code",
   "execution_count": 28,
   "metadata": {},
   "outputs": [
    {
     "data": {
      "text/plain": [
       "{'KurianTinto-accelerations', 'KurianTinto-locations'}"
      ]
     },
     "execution_count": 28,
     "metadata": {},
     "output_type": "execute_result"
    }
   ],
   "source": [
    "consumer.subscription()"
   ]
  },
  {
   "cell_type": "markdown",
   "metadata": {},
   "source": [
    "The following function prints messages from the current consumer subscriptions. It will continue until manually stopped. "
   ]
  },
  {
   "cell_type": "code",
   "execution_count": null,
   "metadata": {},
   "outputs": [],
   "source": []
  },
  {
   "cell_type": "code",
   "execution_count": null,
   "metadata": {},
   "outputs": [
    {
     "name": "stdout",
     "output_type": "stream",
     "text": [
      "Message metadata:\n",
      "  Topic: KurianTinto-locations\n",
      "  Partition: 0\n",
      "  Offset: 0\n",
      "Message Key: 1aa8e56973894f618769451fa60badf9\n",
      "Message Value:\n",
      "\n",
      "Message metadata:\n",
      "  Topic: KurianTinto-locations\n",
      "  Partition: 0\n",
      "  Offset: 1\n",
      "Message Key: 71dd87c214b244aaa844ffdd5d95edb9\n",
      "Message Value:\n",
      "\n",
      "Message metadata:\n",
      "  Topic: KurianTinto-locations\n",
      "  Partition: 0\n",
      "  Offset: 2\n",
      "Message Key: a71ae631ef534137abac6e3219005266\n",
      "Message Value:\n",
      "\n",
      "Message metadata:\n",
      "  Topic: KurianTinto-locations\n",
      "  Partition: 0\n",
      "  Offset: 3\n",
      "Message Key: f16b5a7a4b1b46bdb96e0b8fe0deee30\n",
      "Message Value:\n",
      "\n",
      "Message metadata:\n",
      "  Topic: KurianTinto-locations\n",
      "  Partition: 0\n",
      "  Offset: 4\n",
      "Message Key: 6dbe52470b96486cb28ff73f4547fb23\n",
      "Message Value:\n",
      "\n",
      "Message metadata:\n",
      "  Topic: KurianTinto-locations\n",
      "  Partition: 0\n",
      "  Offset: 5\n",
      "Message Key: 325724c23d474b3091fa26c7cac31bcb\n",
      "Message Value:\n",
      "\n",
      "Message metadata:\n",
      "  Topic: KurianTinto-locations\n",
      "  Partition: 0\n",
      "  Offset: 6\n",
      "Message Key: c95c2e0f20934e6c93d3840c2442b204\n",
      "Message Value:\n",
      "\n",
      "Message metadata:\n",
      "  Topic: KurianTinto-locations\n",
      "  Partition: 0\n",
      "  Offset: 7\n",
      "Message Key: b8f805813a8c4b86ac3316680b6854bb\n",
      "Message Value:\n",
      "\n",
      "Message metadata:\n",
      "  Topic: KurianTinto-locations\n",
      "  Partition: 0\n",
      "  Offset: 8\n",
      "Message Key: 45d9fa5cd69a42d29d82e338703a44ff\n",
      "Message Value:\n",
      "\n",
      "Message metadata:\n",
      "  Topic: KurianTinto-locations\n",
      "  Partition: 0\n",
      "  Offset: 9\n",
      "Message Key: 125dba8a9cbe4bb8a5f734ce2bd68fc1\n",
      "Message Value:\n",
      "\n",
      "Message metadata:\n",
      "  Topic: KurianTinto-accelerations\n",
      "  Partition: 0\n",
      "  Offset: 0\n",
      "Message Key: 3c71b64731894d15b0cfbcec2c766738\n",
      "Message Value:\n",
      "\n",
      "Message metadata:\n",
      "  Topic: KurianTinto-accelerations\n",
      "  Partition: 0\n",
      "  Offset: 1\n",
      "Message Key: ab28e0fffd8944c3afe46e882abe81e3\n",
      "Message Value:\n",
      "\n",
      "Message metadata:\n",
      "  Topic: KurianTinto-accelerations\n",
      "  Partition: 0\n",
      "  Offset: 2\n",
      "Message Key: 94e01dcda912473e9912eea9f74798e3\n",
      "Message Value:\n",
      "\n",
      "Message metadata:\n",
      "  Topic: KurianTinto-locations\n",
      "  Partition: 0\n",
      "  Offset: 10\n",
      "Message Key: 30758ee108c9471ba2ff30193a7bf735\n",
      "Message Value:\n",
      "\n",
      "Message metadata:\n",
      "  Topic: KurianTinto-accelerations\n",
      "  Partition: 0\n",
      "  Offset: 3\n",
      "Message Key: 853d59862d3245fc901544ba355b643e\n",
      "Message Value:\n",
      "\n",
      "Message metadata:\n",
      "  Topic: KurianTinto-locations\n",
      "  Partition: 0\n",
      "  Offset: 11\n",
      "Message Key: 138abd529bbb4db39eb554aab126bc40\n",
      "Message Value:\n",
      "\n",
      "Message metadata:\n",
      "  Topic: KurianTinto-accelerations\n",
      "  Partition: 0\n",
      "  Offset: 4\n",
      "Message Key: 77fe25160b0d4e528b0cee5b01311622\n",
      "Message Value:\n",
      "\n"
     ]
    }
   ],
   "source": [
    "def print_messages(consumer=consumer):\n",
    "    try:\n",
    "        for message in consumer:\n",
    "                msg_metadata = 'Message metadata: {}:{}:{}'.format(\n",
    "                    message.topic, message.partition, message.offset\n",
    "                )\n",
    "\n",
    "                if message.key is not None:\n",
    "                    msg_key = message.key.decode('utf-8')\n",
    "                else:\n",
    "                    msg_key = ''\n",
    "                msg_value = json.dumps(message.value, indent=2)\n",
    "                msg_value = '\\n'.join(['  {}'.format(value) for value in msg_value.split('\\n')])\n",
    "\n",
    "                print('Message metadata:')\n",
    "                print('  Topic: {}'.format(message.topic))\n",
    "                print('  Partition: {}'.format(message.partition))\n",
    "                print('  Offset: {}'.format(message.offset))\n",
    "                print('Message Key: {}'.format(msg_key))\n",
    "                print('Message Value:')\n",
    "#                 print(msg_value)\n",
    "                print()\n",
    "    except KeyboardInterrupt:\n",
    "        print(\"STOPPING MESSAGE CONSUMER\")\n",
    "        \n",
    "print_messages()"
   ]
  },
  {
   "cell_type": "code",
   "execution_count": null,
   "metadata": {},
   "outputs": [],
   "source": []
  },
  {
   "cell_type": "markdown",
   "metadata": {},
   "source": [
    "Close the consumer, waiting indefinitely for any needed cleanup."
   ]
  },
  {
   "cell_type": "code",
   "execution_count": 19,
   "metadata": {},
   "outputs": [],
   "source": [
    "consumer.close()"
   ]
  },
  {
   "cell_type": "code",
   "execution_count": null,
   "metadata": {},
   "outputs": [],
   "source": []
  }
 ],
 "metadata": {
  "kernelspec": {
   "display_name": "Python 3",
   "language": "python",
   "name": "python3"
  },
  "language_info": {
   "codemirror_mode": {
    "name": "ipython",
    "version": 3
   },
   "file_extension": ".py",
   "mimetype": "text/x-python",
   "name": "python",
   "nbconvert_exporter": "python",
   "pygments_lexer": "ipython3",
   "version": "3.8.8"
  }
 },
 "nbformat": 4,
 "nbformat_minor": 4
}
